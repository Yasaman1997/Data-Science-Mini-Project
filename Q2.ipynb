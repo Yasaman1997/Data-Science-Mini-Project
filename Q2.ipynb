{
 "cells": [
  {
   "cell_type": "code",
   "execution_count": 1,
   "metadata": {},
   "outputs": [],
   "source": [
    "import pandas as pd"
   ]
  },
  {
   "cell_type": "code",
   "execution_count": 2,
   "metadata": {},
   "outputs": [
    {
     "name": "stderr",
     "output_type": "stream",
     "text": [
      "F:\\Anaconda3\\lib\\site-packages\\IPython\\core\\interactiveshell.py:3063: DtypeWarning: Columns (25,27) have mixed types.Specify dtype option on import or set low_memory=False.\n",
      "  interactivity=interactivity, compiler=compiler, result=result)\n",
      "F:\\Anaconda3\\lib\\site-packages\\IPython\\core\\interactiveshell.py:3063: DtypeWarning: Columns (19) have mixed types.Specify dtype option on import or set low_memory=False.\n",
      "  interactivity=interactivity, compiler=compiler, result=result)\n"
     ]
    }
   ],
   "source": [
    "mt=pd.read_csv('MT_cleaned.csv',delimiter=',')\n",
    "vt=pd.read_csv('VT_cleaned.csv',delimiter=',')"
   ]
  },
  {
   "cell_type": "code",
   "execution_count": 3,
   "metadata": {},
   "outputs": [
    {
     "name": "stdout",
     "output_type": "stream",
     "text": [
      "<class 'pandas.core.frame.DataFrame'>\n",
      "RangeIndex: 825118 entries, 0 to 825117\n",
      "Data columns (total 33 columns):\n",
      " #   Column                 Non-Null Count   Dtype  \n",
      "---  ------                 --------------   -----  \n",
      " 0   id                     825118 non-null  object \n",
      " 1   state                  825118 non-null  object \n",
      " 2   stop_date              825107 non-null  object \n",
      " 3   stop_time              825107 non-null  object \n",
      " 4   location_raw           825114 non-null  object \n",
      " 5   county_name            821062 non-null  object \n",
      " 6   county_fips            821062 non-null  float64\n",
      " 7   fine_grained_location  821377 non-null  object \n",
      " 8   police_department      0 non-null       float64\n",
      " 9   driver_gender          824999 non-null  object \n",
      " 10  driver_age_raw         825118 non-null  float64\n",
      " 11  driver_age             821638 non-null  float64\n",
      " 12  driver_race_raw        825012 non-null  object \n",
      " 13  driver_race            822379 non-null  object \n",
      " 14  violation_raw          825045 non-null  object \n",
      " 15  violation              825045 non-null  object \n",
      " 16  search_conducted       825118 non-null  bool   \n",
      " 17  search_type_raw        3026 non-null    object \n",
      " 18  search_type            3026 non-null    object \n",
      " 19  contraband_found       822092 non-null  object \n",
      " 20  stop_outcome           825065 non-null  object \n",
      " 21  is_arrested            825118 non-null  bool   \n",
      " 22  lat                    824682 non-null  float64\n",
      " 23  lon                    824682 non-null  float64\n",
      " 24  ethnicity              825020 non-null  object \n",
      " 25  city                   275488 non-null  object \n",
      " 26  out_of_state           820419 non-null  object \n",
      " 27  vehicle_year           818508 non-null  object \n",
      " 28  vehicle_make           820850 non-null  object \n",
      " 29  vehicle_model          801313 non-null  object \n",
      " 30  vehicle_style          759756 non-null  object \n",
      " 31  search_reason          2809 non-null    object \n",
      " 32  stop_outcome_raw       825065 non-null  object \n",
      "dtypes: bool(2), float64(6), object(25)\n",
      "memory usage: 196.7+ MB\n"
     ]
    }
   ],
   "source": [
    "mt.info()"
   ]
  },
  {
   "cell_type": "code",
   "execution_count": 4,
   "metadata": {},
   "outputs": [
    {
     "data": {
      "text/plain": [
       "Index(['id', 'state', 'stop_date', 'stop_time', 'location_raw', 'county_name',\n",
       "       'county_fips', 'fine_grained_location', 'police_department',\n",
       "       'driver_gender', 'driver_age_raw', 'driver_age', 'driver_race_raw',\n",
       "       'driver_race', 'violation_raw', 'violation', 'search_conducted',\n",
       "       'search_type_raw', 'search_type', 'contraband_found', 'stop_outcome',\n",
       "       'is_arrested', 'lat', 'lon', 'ethnicity', 'city', 'out_of_state',\n",
       "       'vehicle_year', 'vehicle_make', 'vehicle_model', 'vehicle_style',\n",
       "       'search_reason', 'stop_outcome_raw'],\n",
       "      dtype='object')"
      ]
     },
     "execution_count": 4,
     "metadata": {},
     "output_type": "execute_result"
    }
   ],
   "source": [
    "mt.columns"
   ]
  },
  {
   "cell_type": "markdown",
   "metadata": {},
   "source": [
    "1.The proportion of traffic stops in MT involving male drivers"
   ]
  },
  {
   "cell_type": "code",
   "execution_count": 5,
   "metadata": {},
   "outputs": [],
   "source": [
    "male_mt=mt[mt['driver_gender']=='M']"
   ]
  },
  {
   "cell_type": "code",
   "execution_count": 6,
   "metadata": {},
   "outputs": [
    {
     "data": {
      "text/html": [
       "<div>\n",
       "<style scoped>\n",
       "    .dataframe tbody tr th:only-of-type {\n",
       "        vertical-align: middle;\n",
       "    }\n",
       "\n",
       "    .dataframe tbody tr th {\n",
       "        vertical-align: top;\n",
       "    }\n",
       "\n",
       "    .dataframe thead th {\n",
       "        text-align: right;\n",
       "    }\n",
       "</style>\n",
       "<table border=\"1\" class=\"dataframe\">\n",
       "  <thead>\n",
       "    <tr style=\"text-align: right;\">\n",
       "      <th></th>\n",
       "      <th>id</th>\n",
       "      <th>state</th>\n",
       "      <th>stop_date</th>\n",
       "      <th>stop_time</th>\n",
       "      <th>location_raw</th>\n",
       "      <th>county_name</th>\n",
       "      <th>county_fips</th>\n",
       "      <th>fine_grained_location</th>\n",
       "      <th>police_department</th>\n",
       "      <th>driver_gender</th>\n",
       "      <th>...</th>\n",
       "      <th>lon</th>\n",
       "      <th>ethnicity</th>\n",
       "      <th>city</th>\n",
       "      <th>out_of_state</th>\n",
       "      <th>vehicle_year</th>\n",
       "      <th>vehicle_make</th>\n",
       "      <th>vehicle_model</th>\n",
       "      <th>vehicle_style</th>\n",
       "      <th>search_reason</th>\n",
       "      <th>stop_outcome_raw</th>\n",
       "    </tr>\n",
       "  </thead>\n",
       "  <tbody>\n",
       "    <tr>\n",
       "      <th>1</th>\n",
       "      <td>MT-2009-00002</td>\n",
       "      <td>MT</td>\n",
       "      <td>2009-01-02</td>\n",
       "      <td>11:34</td>\n",
       "      <td>MISSOULA</td>\n",
       "      <td>Missoula County</td>\n",
       "      <td>30063.0</td>\n",
       "      <td>HWY 93 SO AND ANNS LANE S/B</td>\n",
       "      <td>NaN</td>\n",
       "      <td>M</td>\n",
       "      <td>...</td>\n",
       "      <td>-114.081142</td>\n",
       "      <td>N</td>\n",
       "      <td>NaN</td>\n",
       "      <td>False</td>\n",
       "      <td>1996</td>\n",
       "      <td>GMC</td>\n",
       "      <td>TK</td>\n",
       "      <td>TRUCK</td>\n",
       "      <td>NaN</td>\n",
       "      <td>INFFRACTION ARREST,WARNING</td>\n",
       "    </tr>\n",
       "    <tr>\n",
       "      <th>2</th>\n",
       "      <td>MT-2009-00003</td>\n",
       "      <td>MT</td>\n",
       "      <td>2009-01-03</td>\n",
       "      <td>11:36</td>\n",
       "      <td>MISSOULA</td>\n",
       "      <td>Missoula County</td>\n",
       "      <td>30063.0</td>\n",
       "      <td>P007 HWY 93 MM 77 N/B</td>\n",
       "      <td>NaN</td>\n",
       "      <td>M</td>\n",
       "      <td>...</td>\n",
       "      <td>-114.073505</td>\n",
       "      <td>N</td>\n",
       "      <td>NaN</td>\n",
       "      <td>False</td>\n",
       "      <td>1999</td>\n",
       "      <td>GMC</td>\n",
       "      <td>YUKON</td>\n",
       "      <td>SPORT UTILITY</td>\n",
       "      <td>NaN</td>\n",
       "      <td>INFFRACTION ARREST</td>\n",
       "    </tr>\n",
       "    <tr>\n",
       "      <th>4</th>\n",
       "      <td>MT-2009-00005</td>\n",
       "      <td>MT</td>\n",
       "      <td>2009-01-04</td>\n",
       "      <td>10:46</td>\n",
       "      <td>MISSOULA</td>\n",
       "      <td>Missoula County</td>\n",
       "      <td>30063.0</td>\n",
       "      <td>P007 HWY 93 MM 81 N/B</td>\n",
       "      <td>NaN</td>\n",
       "      <td>M</td>\n",
       "      <td>...</td>\n",
       "      <td>-114.079150</td>\n",
       "      <td>NaN</td>\n",
       "      <td>NaN</td>\n",
       "      <td>False</td>\n",
       "      <td>1992</td>\n",
       "      <td>TOYT</td>\n",
       "      <td>TERCEL</td>\n",
       "      <td>SEDAN</td>\n",
       "      <td>NaN</td>\n",
       "      <td>INFFRACTION ARREST</td>\n",
       "    </tr>\n",
       "    <tr>\n",
       "      <th>5</th>\n",
       "      <td>MT-2009-00006</td>\n",
       "      <td>MT</td>\n",
       "      <td>2009-01-04</td>\n",
       "      <td>14:41</td>\n",
       "      <td>RAVALLI</td>\n",
       "      <td>Ravalli County</td>\n",
       "      <td>30081.0</td>\n",
       "      <td>P007 HWY 93 MM 67 S/B</td>\n",
       "      <td>NaN</td>\n",
       "      <td>M</td>\n",
       "      <td>...</td>\n",
       "      <td>-114.110712</td>\n",
       "      <td>NaN</td>\n",
       "      <td>NaN</td>\n",
       "      <td>False</td>\n",
       "      <td>1998</td>\n",
       "      <td>JEEP</td>\n",
       "      <td>CHE</td>\n",
       "      <td>SPORT UTILITY</td>\n",
       "      <td>NaN</td>\n",
       "      <td>INFFRACTION ARREST,WARNING</td>\n",
       "    </tr>\n",
       "    <tr>\n",
       "      <th>6</th>\n",
       "      <td>MT-2009-00007</td>\n",
       "      <td>MT</td>\n",
       "      <td>2009-01-04</td>\n",
       "      <td>17:45</td>\n",
       "      <td>YELLOWSTONE</td>\n",
       "      <td>Yellowstone County</td>\n",
       "      <td>30111.0</td>\n",
       "      <td>WESTBOUND TRUCK SCALE</td>\n",
       "      <td>NaN</td>\n",
       "      <td>M</td>\n",
       "      <td>...</td>\n",
       "      <td>-108.342832</td>\n",
       "      <td>N</td>\n",
       "      <td>NaN</td>\n",
       "      <td>False</td>\n",
       "      <td>2006</td>\n",
       "      <td>SUBA</td>\n",
       "      <td>NaN</td>\n",
       "      <td>PK</td>\n",
       "      <td>NaN</td>\n",
       "      <td>TRAFFIC CITATION</td>\n",
       "    </tr>\n",
       "  </tbody>\n",
       "</table>\n",
       "<p>5 rows × 33 columns</p>\n",
       "</div>"
      ],
      "text/plain": [
       "              id state   stop_date stop_time location_raw         county_name  \\\n",
       "1  MT-2009-00002    MT  2009-01-02     11:34     MISSOULA     Missoula County   \n",
       "2  MT-2009-00003    MT  2009-01-03     11:36     MISSOULA     Missoula County   \n",
       "4  MT-2009-00005    MT  2009-01-04     10:46     MISSOULA     Missoula County   \n",
       "5  MT-2009-00006    MT  2009-01-04     14:41      RAVALLI      Ravalli County   \n",
       "6  MT-2009-00007    MT  2009-01-04     17:45  YELLOWSTONE  Yellowstone County   \n",
       "\n",
       "   county_fips        fine_grained_location  police_department driver_gender  \\\n",
       "1      30063.0  HWY 93 SO AND ANNS LANE S/B                NaN             M   \n",
       "2      30063.0        P007 HWY 93 MM 77 N/B                NaN             M   \n",
       "4      30063.0        P007 HWY 93 MM 81 N/B                NaN             M   \n",
       "5      30081.0        P007 HWY 93 MM 67 S/B                NaN             M   \n",
       "6      30111.0        WESTBOUND TRUCK SCALE                NaN             M   \n",
       "\n",
       "   ...         lon  ethnicity city out_of_state vehicle_year vehicle_make  \\\n",
       "1  ... -114.081142          N  NaN        False         1996          GMC   \n",
       "2  ... -114.073505          N  NaN        False         1999          GMC   \n",
       "4  ... -114.079150        NaN  NaN        False         1992         TOYT   \n",
       "5  ... -114.110712        NaN  NaN        False         1998         JEEP   \n",
       "6  ... -108.342832          N  NaN        False         2006         SUBA   \n",
       "\n",
       "   vehicle_model  vehicle_style search_reason            stop_outcome_raw  \n",
       "1             TK          TRUCK           NaN  INFFRACTION ARREST,WARNING  \n",
       "2          YUKON  SPORT UTILITY           NaN          INFFRACTION ARREST  \n",
       "4         TERCEL          SEDAN           NaN          INFFRACTION ARREST  \n",
       "5            CHE  SPORT UTILITY           NaN  INFFRACTION ARREST,WARNING  \n",
       "6            NaN             PK           NaN            TRAFFIC CITATION  \n",
       "\n",
       "[5 rows x 33 columns]"
      ]
     },
     "execution_count": 6,
     "metadata": {},
     "output_type": "execute_result"
    }
   ],
   "source": [
    "male_mt.head()"
   ]
  },
  {
   "cell_type": "code",
   "execution_count": 7,
   "metadata": {},
   "outputs": [
    {
     "data": {
      "text/html": [
       "<div>\n",
       "<style scoped>\n",
       "    .dataframe tbody tr th:only-of-type {\n",
       "        vertical-align: middle;\n",
       "    }\n",
       "\n",
       "    .dataframe tbody tr th {\n",
       "        vertical-align: top;\n",
       "    }\n",
       "\n",
       "    .dataframe thead th {\n",
       "        text-align: right;\n",
       "    }\n",
       "</style>\n",
       "<table border=\"1\" class=\"dataframe\">\n",
       "  <thead>\n",
       "    <tr style=\"text-align: right;\">\n",
       "      <th></th>\n",
       "      <th>id</th>\n",
       "      <th>state</th>\n",
       "      <th>stop_date</th>\n",
       "      <th>stop_time</th>\n",
       "      <th>location_raw</th>\n",
       "      <th>county_name</th>\n",
       "      <th>county_fips</th>\n",
       "      <th>fine_grained_location</th>\n",
       "      <th>police_department</th>\n",
       "      <th>driver_gender</th>\n",
       "      <th>...</th>\n",
       "      <th>lon</th>\n",
       "      <th>ethnicity</th>\n",
       "      <th>city</th>\n",
       "      <th>out_of_state</th>\n",
       "      <th>vehicle_year</th>\n",
       "      <th>vehicle_make</th>\n",
       "      <th>vehicle_model</th>\n",
       "      <th>vehicle_style</th>\n",
       "      <th>search_reason</th>\n",
       "      <th>stop_outcome_raw</th>\n",
       "    </tr>\n",
       "  </thead>\n",
       "  <tbody>\n",
       "    <tr>\n",
       "      <th>825113</th>\n",
       "      <td>MT-NA-07</td>\n",
       "      <td>MT</td>\n",
       "      <td>NaN</td>\n",
       "      <td>NaN</td>\n",
       "      <td>DAWSON</td>\n",
       "      <td>Dawson County</td>\n",
       "      <td>30021.0</td>\n",
       "      <td>CAINS COULEE ROAD X RADIO HILL ROAD</td>\n",
       "      <td>NaN</td>\n",
       "      <td>M</td>\n",
       "      <td>...</td>\n",
       "      <td>-104.734623</td>\n",
       "      <td>N</td>\n",
       "      <td>NOT IN CITY LIMITS</td>\n",
       "      <td>False</td>\n",
       "      <td>1998</td>\n",
       "      <td>PONTI</td>\n",
       "      <td>GRAND PRIX</td>\n",
       "      <td>SEDAN</td>\n",
       "      <td>NaN</td>\n",
       "      <td>WARNING</td>\n",
       "    </tr>\n",
       "    <tr>\n",
       "      <th>825114</th>\n",
       "      <td>MT-NA-08</td>\n",
       "      <td>MT</td>\n",
       "      <td>NaN</td>\n",
       "      <td>NaN</td>\n",
       "      <td>ROOSEVELT</td>\n",
       "      <td>Roosevelt County</td>\n",
       "      <td>30085.0</td>\n",
       "      <td>BIA ROUTE 1 WEST FORT KIPP 1 MILE</td>\n",
       "      <td>NaN</td>\n",
       "      <td>M</td>\n",
       "      <td>...</td>\n",
       "      <td>-104.785495</td>\n",
       "      <td>N</td>\n",
       "      <td>NOT IN CITY LIMITS</td>\n",
       "      <td>True</td>\n",
       "      <td>2011</td>\n",
       "      <td>DODGE</td>\n",
       "      <td>RAM 1500</td>\n",
       "      <td>PICKUP</td>\n",
       "      <td>NaN</td>\n",
       "      <td>WARNING</td>\n",
       "    </tr>\n",
       "    <tr>\n",
       "      <th>825115</th>\n",
       "      <td>MT-NA-09</td>\n",
       "      <td>MT</td>\n",
       "      <td>NaN</td>\n",
       "      <td>NaN</td>\n",
       "      <td>YELLOWSTONE</td>\n",
       "      <td>Yellowstone County</td>\n",
       "      <td>30111.0</td>\n",
       "      <td>STATE AVE. AND S. 27TH ST.</td>\n",
       "      <td>NaN</td>\n",
       "      <td>M</td>\n",
       "      <td>...</td>\n",
       "      <td>-108.492856</td>\n",
       "      <td>N</td>\n",
       "      <td>BILLINGS</td>\n",
       "      <td>False</td>\n",
       "      <td>1995</td>\n",
       "      <td>CHEVROLET (CHEV</td>\n",
       "      <td>C15</td>\n",
       "      <td>Pickup</td>\n",
       "      <td>NaN</td>\n",
       "      <td>TRAFFIC CITATION,WARNING</td>\n",
       "    </tr>\n",
       "    <tr>\n",
       "      <th>825116</th>\n",
       "      <td>MT-NA-10</td>\n",
       "      <td>MT</td>\n",
       "      <td>NaN</td>\n",
       "      <td>NaN</td>\n",
       "      <td>DAWSON</td>\n",
       "      <td>Dawson County</td>\n",
       "      <td>30021.0</td>\n",
       "      <td>MT 16 MM 10 SB</td>\n",
       "      <td>NaN</td>\n",
       "      <td>M</td>\n",
       "      <td>...</td>\n",
       "      <td>-104.646874</td>\n",
       "      <td>N</td>\n",
       "      <td>GLENDIVE</td>\n",
       "      <td>False</td>\n",
       "      <td>2004</td>\n",
       "      <td>DODGE (DODG)</td>\n",
       "      <td>DURANGO</td>\n",
       "      <td>SPORT UTILITY</td>\n",
       "      <td>NaN</td>\n",
       "      <td>MISDEMEANOR ARREST,WARNING</td>\n",
       "    </tr>\n",
       "    <tr>\n",
       "      <th>825117</th>\n",
       "      <td>MT-NA-11</td>\n",
       "      <td>MT</td>\n",
       "      <td>NaN</td>\n",
       "      <td>NaN</td>\n",
       "      <td>CARBON</td>\n",
       "      <td>Carbon County</td>\n",
       "      <td>30009.0</td>\n",
       "      <td>MP 17 HIGHWAY 72 NB / .1 NORTH OF PRICE ROAD</td>\n",
       "      <td>NaN</td>\n",
       "      <td>M</td>\n",
       "      <td>...</td>\n",
       "      <td>-108.964528</td>\n",
       "      <td>N</td>\n",
       "      <td>NaN</td>\n",
       "      <td>True</td>\n",
       "      <td>2007</td>\n",
       "      <td>TOYOTa</td>\n",
       "      <td>matrix</td>\n",
       "      <td>SEDAN</td>\n",
       "      <td>NaN</td>\n",
       "      <td>WARNING</td>\n",
       "    </tr>\n",
       "  </tbody>\n",
       "</table>\n",
       "<p>5 rows × 33 columns</p>\n",
       "</div>"
      ],
      "text/plain": [
       "              id state stop_date stop_time location_raw         county_name  \\\n",
       "825113  MT-NA-07    MT       NaN       NaN       DAWSON       Dawson County   \n",
       "825114  MT-NA-08    MT       NaN       NaN    ROOSEVELT    Roosevelt County   \n",
       "825115  MT-NA-09    MT       NaN       NaN  YELLOWSTONE  Yellowstone County   \n",
       "825116  MT-NA-10    MT       NaN       NaN       DAWSON       Dawson County   \n",
       "825117  MT-NA-11    MT       NaN       NaN       CARBON       Carbon County   \n",
       "\n",
       "        county_fips                         fine_grained_location  \\\n",
       "825113      30021.0           CAINS COULEE ROAD X RADIO HILL ROAD   \n",
       "825114      30085.0             BIA ROUTE 1 WEST FORT KIPP 1 MILE   \n",
       "825115      30111.0                    STATE AVE. AND S. 27TH ST.   \n",
       "825116      30021.0                                MT 16 MM 10 SB   \n",
       "825117      30009.0  MP 17 HIGHWAY 72 NB / .1 NORTH OF PRICE ROAD   \n",
       "\n",
       "        police_department driver_gender  ...         lon  ethnicity  \\\n",
       "825113                NaN             M  ... -104.734623          N   \n",
       "825114                NaN             M  ... -104.785495          N   \n",
       "825115                NaN             M  ... -108.492856          N   \n",
       "825116                NaN             M  ... -104.646874          N   \n",
       "825117                NaN             M  ... -108.964528          N   \n",
       "\n",
       "                      city out_of_state vehicle_year     vehicle_make  \\\n",
       "825113  NOT IN CITY LIMITS        False         1998            PONTI   \n",
       "825114  NOT IN CITY LIMITS         True         2011            DODGE   \n",
       "825115            BILLINGS        False         1995  CHEVROLET (CHEV   \n",
       "825116            GLENDIVE        False         2004     DODGE (DODG)   \n",
       "825117                 NaN         True         2007           TOYOTa   \n",
       "\n",
       "        vehicle_model  vehicle_style search_reason            stop_outcome_raw  \n",
       "825113     GRAND PRIX          SEDAN           NaN                     WARNING  \n",
       "825114       RAM 1500         PICKUP           NaN                     WARNING  \n",
       "825115            C15         Pickup           NaN    TRAFFIC CITATION,WARNING  \n",
       "825116        DURANGO  SPORT UTILITY           NaN  MISDEMEANOR ARREST,WARNING  \n",
       "825117         matrix          SEDAN           NaN                     WARNING  \n",
       "\n",
       "[5 rows x 33 columns]"
      ]
     },
     "execution_count": 7,
     "metadata": {},
     "output_type": "execute_result"
    }
   ],
   "source": [
    "male_mt.tail()"
   ]
  },
  {
   "cell_type": "code",
   "execution_count": 8,
   "metadata": {},
   "outputs": [],
   "source": [
    "male_driver=len(male_mt)"
   ]
  },
  {
   "cell_type": "code",
   "execution_count": 9,
   "metadata": {},
   "outputs": [
    {
     "data": {
      "text/plain": [
       "0.6749749732765495"
      ]
     },
     "execution_count": 9,
     "metadata": {},
     "output_type": "execute_result"
    }
   ],
   "source": [
    "prop=male_driver/len(mt)\n",
    "prop"
   ]
  },
  {
   "cell_type": "markdown",
   "metadata": {},
   "source": [
    "the proportion: 0.6749749732765495"
   ]
  },
  {
   "cell_type": "markdown",
   "metadata": {},
   "source": [
    "2.Factor increase in a traffic stop arrest likelihood in MT from OOS plates"
   ]
  },
  {
   "cell_type": "code",
   "execution_count": null,
   "metadata": {},
   "outputs": [],
   "source": []
  },
  {
   "cell_type": "markdown",
   "metadata": {},
   "source": [
    "3.The proportion of traffic stops in MT involving speeding violations"
   ]
  },
  {
   "cell_type": "code",
   "execution_count": 10,
   "metadata": {},
   "outputs": [
    {
     "data": {
      "text/plain": [
       "<bound method Series.dropna of 0         Other,Paperwork,Safe movement\n",
       "1          Other (non-mapped),Seat belt\n",
       "2                              Speeding\n",
       "3                              Speeding\n",
       "4                    Seat belt,Speeding\n",
       "                      ...              \n",
       "825113      License,Other,Safe movement\n",
       "825114                         Speeding\n",
       "825115             DUI,Lights,Paperwork\n",
       "825116           License,Other,Speeding\n",
       "825117          License,Other,Paperwork\n",
       "Name: violation, Length: 825118, dtype: object>"
      ]
     },
     "execution_count": 10,
     "metadata": {},
     "output_type": "execute_result"
    }
   ],
   "source": [
    "mt['violation'].dropna"
   ]
  },
  {
   "cell_type": "code",
   "execution_count": 11,
   "metadata": {},
   "outputs": [
    {
     "data": {
      "text/plain": [
       "0         False\n",
       "1         False\n",
       "2          True\n",
       "3          True\n",
       "4          True\n",
       "          ...  \n",
       "825113    False\n",
       "825114     True\n",
       "825115    False\n",
       "825116     True\n",
       "825117    False\n",
       "Name: violation, Length: 825118, dtype: object"
      ]
     },
     "execution_count": 11,
     "metadata": {},
     "output_type": "execute_result"
    }
   ],
   "source": [
    "v=mt['violation']\n",
    "mt_speed_violation=v.str.contains('Speeding',regex='True')\n",
    "mt_speed_violation"
   ]
  },
  {
   "cell_type": "code",
   "execution_count": 12,
   "metadata": {},
   "outputs": [],
   "source": [
    "speed_violation_data_frame=pd.DataFrame(mt_speed_violation)"
   ]
  },
  {
   "cell_type": "code",
   "execution_count": 13,
   "metadata": {},
   "outputs": [],
   "source": [
    "mt_speed_violation_filtered=speed_violation_data_frame.loc[speed_violation_data_frame['violation'] == True]"
   ]
  },
  {
   "cell_type": "code",
   "execution_count": 14,
   "metadata": {},
   "outputs": [
    {
     "data": {
      "text/plain": [
       "0.6580998111785223"
      ]
     },
     "execution_count": 14,
     "metadata": {},
     "output_type": "execute_result"
    }
   ],
   "source": [
    "len(mt_speed_violation_filtered)/len(mt)"
   ]
  },
  {
   "cell_type": "markdown",
   "metadata": {},
   "source": [
    "The proportion of traffic stops in MT involving speeding violations: 0.6580998111785223"
   ]
  },
  {
   "cell_type": "markdown",
   "metadata": {},
   "source": [
    "4.Factor increase in traffic stop DUI likelihood in MT over VT:"
   ]
  },
  {
   "cell_type": "code",
   "execution_count": null,
   "metadata": {},
   "outputs": [],
   "source": []
  },
  {
   "cell_type": "markdown",
   "metadata": {},
   "source": [
    "5.The average manufacture year of vehicles stopped in MT in 2020"
   ]
  },
  {
   "cell_type": "code",
   "execution_count": 15,
   "metadata": {},
   "outputs": [
    {
     "data": {
      "text/html": [
       "<div>\n",
       "<style scoped>\n",
       "    .dataframe tbody tr th:only-of-type {\n",
       "        vertical-align: middle;\n",
       "    }\n",
       "\n",
       "    .dataframe tbody tr th {\n",
       "        vertical-align: top;\n",
       "    }\n",
       "\n",
       "    .dataframe thead th {\n",
       "        text-align: right;\n",
       "    }\n",
       "</style>\n",
       "<table border=\"1\" class=\"dataframe\">\n",
       "  <thead>\n",
       "    <tr style=\"text-align: right;\">\n",
       "      <th></th>\n",
       "      <th>vehicle_year</th>\n",
       "      <th>stop_date</th>\n",
       "    </tr>\n",
       "  </thead>\n",
       "  <tbody>\n",
       "    <tr>\n",
       "      <th>0</th>\n",
       "      <td>1994</td>\n",
       "      <td>2009-01-01</td>\n",
       "    </tr>\n",
       "    <tr>\n",
       "      <th>1</th>\n",
       "      <td>1996</td>\n",
       "      <td>2009-01-02</td>\n",
       "    </tr>\n",
       "    <tr>\n",
       "      <th>2</th>\n",
       "      <td>1999</td>\n",
       "      <td>2009-01-03</td>\n",
       "    </tr>\n",
       "    <tr>\n",
       "      <th>3</th>\n",
       "      <td>2002</td>\n",
       "      <td>2009-01-04</td>\n",
       "    </tr>\n",
       "    <tr>\n",
       "      <th>4</th>\n",
       "      <td>1992</td>\n",
       "      <td>2009-01-04</td>\n",
       "    </tr>\n",
       "    <tr>\n",
       "      <th>...</th>\n",
       "      <td>...</td>\n",
       "      <td>...</td>\n",
       "    </tr>\n",
       "    <tr>\n",
       "      <th>825113</th>\n",
       "      <td>1998</td>\n",
       "      <td>NaN</td>\n",
       "    </tr>\n",
       "    <tr>\n",
       "      <th>825114</th>\n",
       "      <td>2011</td>\n",
       "      <td>NaN</td>\n",
       "    </tr>\n",
       "    <tr>\n",
       "      <th>825115</th>\n",
       "      <td>1995</td>\n",
       "      <td>NaN</td>\n",
       "    </tr>\n",
       "    <tr>\n",
       "      <th>825116</th>\n",
       "      <td>2004</td>\n",
       "      <td>NaN</td>\n",
       "    </tr>\n",
       "    <tr>\n",
       "      <th>825117</th>\n",
       "      <td>2007</td>\n",
       "      <td>NaN</td>\n",
       "    </tr>\n",
       "  </tbody>\n",
       "</table>\n",
       "<p>825118 rows × 2 columns</p>\n",
       "</div>"
      ],
      "text/plain": [
       "       vehicle_year   stop_date\n",
       "0              1994  2009-01-01\n",
       "1              1996  2009-01-02\n",
       "2              1999  2009-01-03\n",
       "3              2002  2009-01-04\n",
       "4              1992  2009-01-04\n",
       "...             ...         ...\n",
       "825113         1998         NaN\n",
       "825114         2011         NaN\n",
       "825115         1995         NaN\n",
       "825116         2004         NaN\n",
       "825117         2007         NaN\n",
       "\n",
       "[825118 rows x 2 columns]"
      ]
     },
     "execution_count": 15,
     "metadata": {},
     "output_type": "execute_result"
    }
   ],
   "source": [
    "#stop_mt=mt['stop_date'].dropna()\n",
    "manufacture_year=mt[['vehicle_year','stop_date']]\n",
    "manufacture_year"
   ]
  },
  {
   "cell_type": "code",
   "execution_count": 16,
   "metadata": {},
   "outputs": [
    {
     "name": "stderr",
     "output_type": "stream",
     "text": [
      "F:\\Anaconda3\\lib\\site-packages\\ipykernel_launcher.py:1: SettingWithCopyWarning: \n",
      "A value is trying to be set on a copy of a slice from a DataFrame.\n",
      "Try using .loc[row_indexer,col_indexer] = value instead\n",
      "\n",
      "See the caveats in the documentation: https://pandas.pydata.org/pandas-docs/stable/user_guide/indexing.html#returning-a-view-versus-a-copy\n",
      "  \"\"\"Entry point for launching an IPython kernel.\n"
     ]
    }
   ],
   "source": [
    "manufacture_year['stop_date']= pd.to_datetime(manufacture_year['stop_date'])"
   ]
  },
  {
   "cell_type": "code",
   "execution_count": 17,
   "metadata": {},
   "outputs": [
    {
     "name": "stderr",
     "output_type": "stream",
     "text": [
      "F:\\Anaconda3\\lib\\site-packages\\ipykernel_launcher.py:2: SettingWithCopyWarning: \n",
      "A value is trying to be set on a copy of a slice from a DataFrame.\n",
      "Try using .loc[row_indexer,col_indexer] = value instead\n",
      "\n",
      "See the caveats in the documentation: https://pandas.pydata.org/pandas-docs/stable/user_guide/indexing.html#returning-a-view-versus-a-copy\n",
      "  \n"
     ]
    }
   ],
   "source": [
    "#extract year\n",
    "manufacture_year['stop_year']=manufacture_year['stop_date'].apply(lambda x: x.year)"
   ]
  },
  {
   "cell_type": "code",
   "execution_count": 18,
   "metadata": {},
   "outputs": [
    {
     "data": {
      "text/html": [
       "<div>\n",
       "<style scoped>\n",
       "    .dataframe tbody tr th:only-of-type {\n",
       "        vertical-align: middle;\n",
       "    }\n",
       "\n",
       "    .dataframe tbody tr th {\n",
       "        vertical-align: top;\n",
       "    }\n",
       "\n",
       "    .dataframe thead th {\n",
       "        text-align: right;\n",
       "    }\n",
       "</style>\n",
       "<table border=\"1\" class=\"dataframe\">\n",
       "  <thead>\n",
       "    <tr style=\"text-align: right;\">\n",
       "      <th></th>\n",
       "      <th>vehicle_year</th>\n",
       "      <th>stop_date</th>\n",
       "      <th>stop_year</th>\n",
       "    </tr>\n",
       "  </thead>\n",
       "  <tbody>\n",
       "    <tr>\n",
       "      <th>0</th>\n",
       "      <td>1994</td>\n",
       "      <td>2009-01-01</td>\n",
       "      <td>2009.0</td>\n",
       "    </tr>\n",
       "    <tr>\n",
       "      <th>1</th>\n",
       "      <td>1996</td>\n",
       "      <td>2009-01-02</td>\n",
       "      <td>2009.0</td>\n",
       "    </tr>\n",
       "    <tr>\n",
       "      <th>2</th>\n",
       "      <td>1999</td>\n",
       "      <td>2009-01-03</td>\n",
       "      <td>2009.0</td>\n",
       "    </tr>\n",
       "    <tr>\n",
       "      <th>3</th>\n",
       "      <td>2002</td>\n",
       "      <td>2009-01-04</td>\n",
       "      <td>2009.0</td>\n",
       "    </tr>\n",
       "    <tr>\n",
       "      <th>4</th>\n",
       "      <td>1992</td>\n",
       "      <td>2009-01-04</td>\n",
       "      <td>2009.0</td>\n",
       "    </tr>\n",
       "    <tr>\n",
       "      <th>...</th>\n",
       "      <td>...</td>\n",
       "      <td>...</td>\n",
       "      <td>...</td>\n",
       "    </tr>\n",
       "    <tr>\n",
       "      <th>825102</th>\n",
       "      <td>1995</td>\n",
       "      <td>2016-12-31</td>\n",
       "      <td>2016.0</td>\n",
       "    </tr>\n",
       "    <tr>\n",
       "      <th>825103</th>\n",
       "      <td>1999</td>\n",
       "      <td>2016-12-31</td>\n",
       "      <td>2016.0</td>\n",
       "    </tr>\n",
       "    <tr>\n",
       "      <th>825104</th>\n",
       "      <td>1993</td>\n",
       "      <td>2016-12-31</td>\n",
       "      <td>2016.0</td>\n",
       "    </tr>\n",
       "    <tr>\n",
       "      <th>825105</th>\n",
       "      <td>1996</td>\n",
       "      <td>2016-12-31</td>\n",
       "      <td>2016.0</td>\n",
       "    </tr>\n",
       "    <tr>\n",
       "      <th>825106</th>\n",
       "      <td>1997</td>\n",
       "      <td>2016-12-31</td>\n",
       "      <td>2016.0</td>\n",
       "    </tr>\n",
       "  </tbody>\n",
       "</table>\n",
       "<p>818497 rows × 3 columns</p>\n",
       "</div>"
      ],
      "text/plain": [
       "       vehicle_year  stop_date  stop_year\n",
       "0              1994 2009-01-01     2009.0\n",
       "1              1996 2009-01-02     2009.0\n",
       "2              1999 2009-01-03     2009.0\n",
       "3              2002 2009-01-04     2009.0\n",
       "4              1992 2009-01-04     2009.0\n",
       "...             ...        ...        ...\n",
       "825102         1995 2016-12-31     2016.0\n",
       "825103         1999 2016-12-31     2016.0\n",
       "825104         1993 2016-12-31     2016.0\n",
       "825105         1996 2016-12-31     2016.0\n",
       "825106         1997 2016-12-31     2016.0\n",
       "\n",
       "[818497 rows x 3 columns]"
      ]
     },
     "execution_count": 18,
     "metadata": {},
     "output_type": "execute_result"
    }
   ],
   "source": [
    "manufacture_year.dropna()"
   ]
  },
  {
   "cell_type": "code",
   "execution_count": 19,
   "metadata": {},
   "outputs": [
    {
     "name": "stdout",
     "output_type": "stream",
     "text": [
      "<class 'pandas.core.frame.DataFrame'>\n",
      "RangeIndex: 825118 entries, 0 to 825117\n",
      "Data columns (total 3 columns):\n",
      " #   Column        Non-Null Count   Dtype         \n",
      "---  ------        --------------   -----         \n",
      " 0   vehicle_year  818508 non-null  object        \n",
      " 1   stop_date     825107 non-null  datetime64[ns]\n",
      " 2   stop_year     825107 non-null  float64       \n",
      "dtypes: datetime64[ns](1), float64(1), object(1)\n",
      "memory usage: 18.9+ MB\n"
     ]
    }
   ],
   "source": [
    "manufacture_year.info()"
   ]
  },
  {
   "cell_type": "code",
   "execution_count": null,
   "metadata": {},
   "outputs": [],
   "source": [
    "vehicle_year=pd.DataFrame(manufacture_year['vehicle_year'])\n",
    "vehicle_year_avg=vehicle_year.astype(str).mean()\n",
    "vehicle_year_avg"
   ]
  },
  {
   "cell_type": "code",
   "execution_count": null,
   "metadata": {},
   "outputs": [],
   "source": []
  },
  {
   "cell_type": "markdown",
   "metadata": {},
   "source": [
    "6.The difference in the total number of stops that occurred between min and max hours in both MT and VT"
   ]
  },
  {
   "cell_type": "code",
   "execution_count": 20,
   "metadata": {},
   "outputs": [
    {
     "data": {
      "text/plain": [
       "0         02:10\n",
       "1         11:34\n",
       "2         11:36\n",
       "3         10:33\n",
       "4         10:46\n",
       "          ...  \n",
       "825102    23:54\n",
       "825103    23:55\n",
       "825104    23:58\n",
       "825105    23:58\n",
       "825106    23:58\n",
       "Name: stop_time, Length: 825107, dtype: object"
      ]
     },
     "execution_count": 20,
     "metadata": {},
     "output_type": "execute_result"
    }
   ],
   "source": [
    "mt.stop_time.dropna()"
   ]
  },
  {
   "cell_type": "code",
   "execution_count": 21,
   "metadata": {},
   "outputs": [],
   "source": [
    "stop_time=pd.DataFrame(mt.stop_time.dropna())"
   ]
  },
  {
   "cell_type": "code",
   "execution_count": 22,
   "metadata": {},
   "outputs": [
    {
     "data": {
      "text/html": [
       "<div>\n",
       "<style scoped>\n",
       "    .dataframe tbody tr th:only-of-type {\n",
       "        vertical-align: middle;\n",
       "    }\n",
       "\n",
       "    .dataframe tbody tr th {\n",
       "        vertical-align: top;\n",
       "    }\n",
       "\n",
       "    .dataframe thead th {\n",
       "        text-align: right;\n",
       "    }\n",
       "</style>\n",
       "<table border=\"1\" class=\"dataframe\">\n",
       "  <thead>\n",
       "    <tr style=\"text-align: right;\">\n",
       "      <th></th>\n",
       "      <th>stop_time</th>\n",
       "    </tr>\n",
       "  </thead>\n",
       "  <tbody>\n",
       "    <tr>\n",
       "      <th>0</th>\n",
       "      <td>02:10</td>\n",
       "    </tr>\n",
       "    <tr>\n",
       "      <th>1</th>\n",
       "      <td>11:34</td>\n",
       "    </tr>\n",
       "    <tr>\n",
       "      <th>2</th>\n",
       "      <td>11:36</td>\n",
       "    </tr>\n",
       "    <tr>\n",
       "      <th>3</th>\n",
       "      <td>10:33</td>\n",
       "    </tr>\n",
       "    <tr>\n",
       "      <th>4</th>\n",
       "      <td>10:46</td>\n",
       "    </tr>\n",
       "  </tbody>\n",
       "</table>\n",
       "</div>"
      ],
      "text/plain": [
       "  stop_time\n",
       "0     02:10\n",
       "1     11:34\n",
       "2     11:36\n",
       "3     10:33\n",
       "4     10:46"
      ]
     },
     "execution_count": 22,
     "metadata": {},
     "output_type": "execute_result"
    }
   ],
   "source": [
    "stop_time.head()"
   ]
  },
  {
   "cell_type": "code",
   "execution_count": null,
   "metadata": {},
   "outputs": [],
   "source": []
  },
  {
   "cell_type": "markdown",
   "metadata": {},
   "source": [
    "7.The area in sq. km of the largest county in MT \n"
   ]
  },
  {
   "cell_type": "code",
   "execution_count": null,
   "metadata": {},
   "outputs": [],
   "source": [
    "mt.iloc[105]"
   ]
  },
  {
   "cell_type": "code",
   "execution_count": null,
   "metadata": {},
   "outputs": [],
   "source": [
    "mt['county_name'].describe()"
   ]
  },
  {
   "cell_type": "code",
   "execution_count": null,
   "metadata": {},
   "outputs": [],
   "source": []
  },
  {
   "cell_type": "code",
   "execution_count": null,
   "metadata": {},
   "outputs": [],
   "source": []
  },
  {
   "cell_type": "code",
   "execution_count": null,
   "metadata": {},
   "outputs": [],
   "source": []
  }
 ],
 "metadata": {
  "kernelspec": {
   "display_name": "Python 3",
   "language": "python",
   "name": "python3"
  },
  "language_info": {
   "codemirror_mode": {
    "name": "ipython",
    "version": 3
   },
   "file_extension": ".py",
   "mimetype": "text/x-python",
   "name": "python",
   "nbconvert_exporter": "python",
   "pygments_lexer": "ipython3",
   "version": "3.7.6"
  }
 },
 "nbformat": 4,
 "nbformat_minor": 4
}
