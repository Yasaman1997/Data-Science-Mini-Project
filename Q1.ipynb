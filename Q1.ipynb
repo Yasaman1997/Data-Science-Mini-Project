{
 "cells": [
  {
   "cell_type": "markdown",
   "metadata": {},
   "source": [
    "# Create and shuffle"
   ]
  },
  {
   "cell_type": "code",
   "execution_count": 355,
   "metadata": {},
   "outputs": [],
   "source": [
    "# importing modules\n",
    "import itertools, random\n",
    "\n",
    "# make a deck of cards\n",
    "deck = list(itertools.product(range(1,14),['Spade','Heart','Diamond','Club']))\n",
    "\n",
    "# shuffle the cards\n",
    "random.shuffle(deck)"
   ]
  },
  {
   "cell_type": "markdown",
   "metadata": {},
   "source": [
    "Draw"
   ]
  },
  {
   "cell_type": "code",
   "execution_count": 356,
   "metadata": {},
   "outputs": [
    {
     "name": "stdout",
     "output_type": "stream",
     "text": [
      "You got:\n",
      "5 of Diamond\n",
      "8 of Club\n",
      "4 of Spade\n",
      "2 of Heart\n",
      "6 of Club\n"
     ]
    }
   ],
   "source": [
    "# draw five cards\n",
    "print(\"You got:\")\n",
    "for i in range(5):\n",
    "   print(deck[i][0], \"of\", deck[i][1])"
   ]
  },
  {
   "cell_type": "code",
   "execution_count": 357,
   "metadata": {},
   "outputs": [
    {
     "data": {
      "text/plain": [
       "12"
      ]
     },
     "execution_count": 357,
     "metadata": {},
     "output_type": "execute_result"
    }
   ],
   "source": [
    "p"
   ]
  },
  {
   "cell_type": "code",
   "execution_count": null,
   "metadata": {},
   "outputs": [],
   "source": []
  },
  {
   "cell_type": "code",
   "execution_count": 358,
   "metadata": {},
   "outputs": [],
   "source": [
    "# importing modules\n",
    "import itertools, random\n",
    "def Deck(m,n):\n",
    "    p=0\n",
    "    # make a deck of cards\n",
    "    s = []\n",
    "    for i in range(m): \n",
    "         s.append(i)\n",
    "    deck = list(itertools.product(range(1,n+1),s))\n",
    "\n",
    "    # shuffle the cards\n",
    "    random.shuffle(deck)\n",
    "    for j in range(m*n-1):\n",
    "        if deck[j-1][1]==deck[j][1]:\n",
    "            p+=1\n",
    "    return deck\n",
    "    return p"
   ]
  },
  {
   "cell_type": "code",
   "execution_count": 359,
   "metadata": {},
   "outputs": [
    {
     "data": {
      "text/plain": [
       "52"
      ]
     },
     "execution_count": 359,
     "metadata": {},
     "output_type": "execute_result"
    }
   ],
   "source": [
    "len(Deck(4,13))"
   ]
  },
  {
   "cell_type": "code",
   "execution_count": 360,
   "metadata": {},
   "outputs": [],
   "source": [
    "import math\n",
    "\n",
    "def func(m,n):\n",
    "    for i in range(math.factorial(n)):\n",
    "            p=0\n",
    "    # make a deck of cards\n",
    "    s = []\n",
    "    for i in range(m): \n",
    "         s.append(i)\n",
    "    deck = list(itertools.product(range(1,n+1),s))\n",
    "\n",
    "    # shuffle the cards\n",
    "    random.shuffle(deck)\n",
    "    for j in range(m*n-1):\n",
    "        if deck[j-1][1]==deck[j][1]:\n",
    "            p+=1\n",
    "    return deck\n",
    "    return p  "
   ]
  },
  {
   "cell_type": "code",
   "execution_count": null,
   "metadata": {},
   "outputs": [],
   "source": [
    "func(4,13)"
   ]
  },
  {
   "cell_type": "code",
   "execution_count": null,
   "metadata": {},
   "outputs": [],
   "source": [
    "p"
   ]
  },
  {
   "cell_type": "code",
   "execution_count": null,
   "metadata": {},
   "outputs": [],
   "source": [
    "# draw five cards\n",
    "print(\"You got:\")\n",
    "for i in range(5):\n",
    "   print(deck[i][0], \"of\", deck[i][1])"
   ]
  },
  {
   "cell_type": "code",
   "execution_count": null,
   "metadata": {},
   "outputs": [],
   "source": []
  },
  {
   "cell_type": "code",
   "execution_count": null,
   "metadata": {},
   "outputs": [],
   "source": []
  }
 ],
 "metadata": {
  "kernelspec": {
   "display_name": "Python 3",
   "language": "python",
   "name": "python3"
  },
  "language_info": {
   "codemirror_mode": {
    "name": "ipython",
    "version": 3
   },
   "file_extension": ".py",
   "mimetype": "text/x-python",
   "name": "python",
   "nbconvert_exporter": "python",
   "pygments_lexer": "ipython3",
   "version": "3.7.6"
  }
 },
 "nbformat": 4,
 "nbformat_minor": 4
}
